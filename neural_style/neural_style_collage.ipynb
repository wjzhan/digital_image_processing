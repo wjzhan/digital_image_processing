{
 "cells": [
  {
   "cell_type": "markdown",
   "id": "exotic-blues",
   "metadata": {},
   "source": [
    "### Install pytorch\n",
    "conda install -c pytorch pytorch torchvision \\\n",
    "pip install torchfile\n",
    "\n",
    "### Clone PyTorch-Style-Transfer repository\n",
    "git clone https://github.com/zhanghang1989/PyTorch-Style-Transfer.git\n",
    "\n",
    "### Download pre-trained DL model\n",
    "chmod +x PyTorch-Style-Transfer/experiments/models/download_model.sh\n",
    "\n",
    "### Excute the download script\n",
    "Under PyTorch-Style-Transfer/experiments run \\\n",
    "bash models/download_model.sh"
   ]
  },
  {
   "cell_type": "code",
   "execution_count": 99,
   "id": "trying-spotlight",
   "metadata": {},
   "outputs": [],
   "source": [
    "import torch\n",
    "import os\n",
    "import subprocess\n",
    "from IPython.display import Image\n",
    "from IPython.display import display"
   ]
  },
  {
   "cell_type": "code",
   "execution_count": 23,
   "id": "straight-parts",
   "metadata": {},
   "outputs": [],
   "source": [
    "cwd = os.getcwd()\n",
    "experiment_dir = 'PyTorch-Style-Transfer/experiments'\n",
    "workingdir = os.path.join(cwd, experiment_dir)"
   ]
  },
  {
   "cell_type": "code",
   "execution_count": 24,
   "id": "olympic-declaration",
   "metadata": {},
   "outputs": [],
   "source": [
    "path2script = '{}/main.py'.format(workingdir)"
   ]
  },
  {
   "cell_type": "code",
   "execution_count": 59,
   "id": "traditional-exception",
   "metadata": {},
   "outputs": [],
   "source": [
    "def predict(contant_image_name, style_image_name, output_image_name):\n",
    "    args = ['eval',\n",
    "            '--content-image',\n",
    "            '{}/images/content/{}'.format(workingdir,contant_image_name),\n",
    "            '--style-image',\n",
    "            '{}/images/9styles/{}'.format(workingdir,style_image_name),\n",
    "            '--model',\n",
    "            '{}/models/21styles.model'.format(workingdir),\n",
    "            '--output-image',\n",
    "            '{}/images/{}'.format(cwd,output_image_name),\n",
    "            '--cuda=0']\n",
    "\n",
    "    cmd = ['python3', path2script] + args\n",
    "    x = subprocess.check_output(cmd, universal_newlines=True)"
   ]
  },
  {
   "cell_type": "code",
   "execution_count": 62,
   "id": "endless-acoustic",
   "metadata": {},
   "outputs": [
    {
     "name": "stdout",
     "output_type": "stream",
     "text": [
      "******* processing mosaic.jpg**********\n",
      "******* processing candy.jpg**********\n",
      "******* processing the_scream.jpg**********\n",
      "******* processing composition_vii.jpg**********\n",
      "******* processing udnie.jpg**********\n",
      "******* processing wave.jpg**********\n",
      "******* processing la_muse.jpg**********\n",
      "******* processing feathers.jpg**********\n",
      "******* processing starry_night.jpg**********\n"
     ]
    }
   ],
   "source": [
    "for style_image_name in os.listdir('{}/images/9styles'.format(workingdir)):\n",
    "    print('******* processing {}**********'.format(style_image_name))\n",
    "    predict('my_portrait.jpg', style_image_name, style_image_name)"
   ]
  },
  {
   "cell_type": "markdown",
   "id": "million-height",
   "metadata": {},
   "source": [
    "## Create collage (Optional)"
   ]
  },
  {
   "cell_type": "markdown",
   "id": "communist-meter",
   "metadata": {},
   "source": [
    "### Install PIL for image collage"
   ]
  },
  {
   "cell_type": "code",
   "execution_count": 106,
   "id": "alpha-trout",
   "metadata": {},
   "outputs": [],
   "source": [
    "from PIL import Image"
   ]
  },
  {
   "cell_type": "code",
   "execution_count": 128,
   "id": "random-celebration",
   "metadata": {},
   "outputs": [],
   "source": [
    "width = 800\n",
    "height = 600\n",
    "col_image = Image.new('RGB', (width,height))\n",
    "coords = []\n",
    "for i in range(0, width, int(width/2)):\n",
    "    for j in range(0, height, int(height/2)):\n",
    "        coords.append((i,j))\n",
    "\n",
    "idx = 0\n",
    "for name in ['candy.jpg', 'mosaic.jpg', 'la_muse.jpg', 'starry_night.jpg']:\n",
    "    if '.jpg' in name:\n",
    "        image = Image.open('{}/images/{}'.format(cwd,name))\n",
    "        image.thumbnail((int(width/2), int(height/2) + 10))\n",
    "        col_image.paste(image, (coords[idx][0],coords[idx][1]))\n",
    "        idx +=1"
   ]
  },
  {
   "cell_type": "code",
   "execution_count": 129,
   "id": "latin-display",
   "metadata": {},
   "outputs": [],
   "source": [
    "col_image.show()"
   ]
  },
  {
   "cell_type": "code",
   "execution_count": 130,
   "id": "artistic-biodiversity",
   "metadata": {},
   "outputs": [],
   "source": [
    "col_image.save('{}/images/{}'.format(cwd, 'collage.jpg'), quality=100)"
   ]
  },
  {
   "cell_type": "markdown",
   "id": "laden-bobby",
   "metadata": {},
   "source": [
    "### Ref\n",
    "- https://www.digitalocean.com/community/tutorials/how-to-perform-neural-style-transfer-with-python-3-and-pytorch"
   ]
  },
  {
   "cell_type": "code",
   "execution_count": null,
   "id": "confidential-proposition",
   "metadata": {},
   "outputs": [],
   "source": []
  }
 ],
 "metadata": {
  "kernelspec": {
   "display_name": "Python 3",
   "language": "python",
   "name": "python3"
  },
  "language_info": {
   "codemirror_mode": {
    "name": "ipython",
    "version": 3
   },
   "file_extension": ".py",
   "mimetype": "text/x-python",
   "name": "python",
   "nbconvert_exporter": "python",
   "pygments_lexer": "ipython3",
   "version": "3.8.5"
  }
 },
 "nbformat": 4,
 "nbformat_minor": 5
}
